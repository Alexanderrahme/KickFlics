{
 "cells": [
  {
   "cell_type": "code",
   "execution_count": 1,
   "id": "2d59717b-652d-4d2b-940d-e41d49a362ee",
   "metadata": {},
   "outputs": [],
   "source": [
    "import numpy as np\n",
    "import os\n",
    "import PIL\n",
    "import tensorflow as tf\n",
    "from tensorflow import keras\n",
    "from tensorflow.keras import layers\n",
    "from tensorflow.python.keras.layers import Dense, Flatten\n",
    "from tensorflow.keras.models import Sequential\n",
    "from tensorflow.keras.optimizers import Adam\n",
    "import pathlib\n",
    "import cv2"
   ]
  },
  {
   "cell_type": "code",
   "execution_count": 2,
   "id": "b5369f3f-0c31-4522-88dd-1ba5f313051e",
   "metadata": {},
   "outputs": [],
   "source": [
    "data_dir = pathlib.Path('C:/Users/Blake/Downloads/Shoes')"
   ]
  },
  {
   "cell_type": "code",
   "execution_count": 40,
   "id": "cf1d8360-6207-4aa4-975f-0c4d111f4e78",
   "metadata": {},
   "outputs": [
    {
     "name": "stdout",
     "output_type": "stream",
     "text": [
      "Found 6200 files belonging to 3 classes.\n",
      "Using 4960 files for training.\n"
     ]
    }
   ],
   "source": [
    "train_ds = tf.keras.preprocessing.image_dataset_from_directory(\n",
    "    data_dir,\n",
    "    validation_split = 0.2,\n",
    "    subset = 'training',\n",
    "    seed = 123,\n",
    "    label_mode = 'categorical',\n",
    "    image_size = (224, 224),\n",
    "    batch_size = 32\n",
    ")"
   ]
  },
  {
   "cell_type": "code",
   "execution_count": 41,
   "id": "30b60505-773a-474b-8543-636043307ebe",
   "metadata": {},
   "outputs": [
    {
     "name": "stdout",
     "output_type": "stream",
     "text": [
      "Found 6200 files belonging to 3 classes.\n",
      "Using 1240 files for validation.\n"
     ]
    }
   ],
   "source": [
    "val_ds = tf.keras.preprocessing.image_dataset_from_directory(\n",
    "    data_dir,\n",
    "    validation_split = 0.2,\n",
    "    subset = 'validation',\n",
    "    seed = 123,\n",
    "    label_mode = 'categorical',\n",
    "    image_size = (224, 224),\n",
    "    batch_size = 32\n",
    ")"
   ]
  },
  {
   "cell_type": "code",
   "execution_count": 42,
   "id": "612e05bc-dc59-40d9-a25c-151a04bf131e",
   "metadata": {},
   "outputs": [],
   "source": [
    "class_names = train_ds.class_names"
   ]
  },
  {
   "cell_type": "code",
   "execution_count": 43,
   "id": "ffc3564e-0719-421a-8bed-e103fa6c82dd",
   "metadata": {},
   "outputs": [],
   "source": [
    "resnet_model = Sequential()\n",
    "\n",
    "pretrained_model = tf.keras.applications.ResNet50(include_top = False,\n",
    "                                                  input_shape = (224, 224, 3),\n",
    "                                                  pooling = 'avg',\n",
    "                                                  classes = len(class_names),\n",
    "                                                  weights = 'imagenet')\n",
    "\n",
    "for layer in pretrained_model.layers:\n",
    "    layer.trainable = False\n",
    "\n",
    "resnet_model.add(pretrained_model)\n",
    "resnet_model.add(Flatten())\n",
    "resnet_model.add(Dense(512, activation = 'relu'))\n",
    "resnet_model.add(Dense(len(class_names), activation = 'softmax'))"
   ]
  },
  {
   "cell_type": "code",
   "execution_count": 44,
   "id": "b788ff83-8406-4bb3-a4f6-155d626c56a9",
   "metadata": {},
   "outputs": [],
   "source": [
    "resnet_model.compile(optimizer = Adam(learning_rate = 0.001), loss = 'categorical_crossentropy', metrics = ['accuracy'])"
   ]
  },
  {
   "cell_type": "code",
   "execution_count": 47,
   "id": "91340db4-894d-444e-99bd-9f322c8c834c",
   "metadata": {},
   "outputs": [
    {
     "name": "stdout",
     "output_type": "stream",
     "text": [
      "Epoch 1/10\n",
      "155/155 [==============================] - 420s 3s/step - loss: 2.1219e-04 - accuracy: 1.0000 - val_loss: 1.5201e-04 - val_accuracy: 1.0000\n",
      "Epoch 2/10\n",
      "155/155 [==============================] - 399s 3s/step - loss: 1.3301e-04 - accuracy: 1.0000 - val_loss: 1.0193e-04 - val_accuracy: 1.0000\n",
      "Epoch 3/10\n",
      "155/155 [==============================] - 399s 3s/step - loss: 9.0528e-05 - accuracy: 1.0000 - val_loss: 7.4192e-05 - val_accuracy: 1.0000\n",
      "Epoch 4/10\n",
      "155/155 [==============================] - 404s 3s/step - loss: 6.5171e-05 - accuracy: 1.0000 - val_loss: 5.5275e-05 - val_accuracy: 1.0000\n",
      "Epoch 5/10\n",
      "155/155 [==============================] - 427s 3s/step - loss: 4.9455e-05 - accuracy: 1.0000 - val_loss: 4.2684e-05 - val_accuracy: 1.0000\n",
      "Epoch 6/10\n",
      "155/155 [==============================] - 424s 3s/step - loss: 3.7941e-05 - accuracy: 1.0000 - val_loss: 3.4160e-05 - val_accuracy: 1.0000\n",
      "Epoch 7/10\n",
      "155/155 [==============================] - 425s 3s/step - loss: 3.0361e-05 - accuracy: 1.0000 - val_loss: 2.7547e-05 - val_accuracy: 1.0000\n",
      "Epoch 8/10\n",
      "155/155 [==============================] - 426s 3s/step - loss: 2.4451e-05 - accuracy: 1.0000 - val_loss: 2.2891e-05 - val_accuracy: 1.0000\n",
      "Epoch 9/10\n",
      "155/155 [==============================] - 424s 3s/step - loss: 1.9973e-05 - accuracy: 1.0000 - val_loss: 1.9773e-05 - val_accuracy: 1.0000\n",
      "Epoch 10/10\n",
      "155/155 [==============================] - 428s 3s/step - loss: 1.6665e-05 - accuracy: 1.0000 - val_loss: 1.6242e-05 - val_accuracy: 1.0000\n"
     ]
    }
   ],
   "source": [
    "history = resnet_model.fit(\n",
    "    train_ds,\n",
    "    validation_data = val_ds,\n",
    "    epochs = 10\n",
    ")"
   ]
  },
  {
   "cell_type": "code",
   "execution_count": 128,
   "id": "0e921a8c-52da-47d8-adf5-573887114abe",
   "metadata": {},
   "outputs": [
    {
     "name": "stdout",
     "output_type": "stream",
     "text": [
      "1/1 [==============================] - 0s 108ms/step\n",
      "Predicted shoe: Under Armour Ripple 2.0 Sneaker\n"
     ]
    }
   ],
   "source": [
    "image = cv2.imread('C:/Users/Blake/Downloads/Demo/A1.JPG')\n",
    "image_resized = cv2.resize(image, (224, 224))\n",
    "image = np.expand_dims(image_resized, axis = 0)\n",
    "\n",
    "pred = resnet_model.predict(image)\n",
    "output_class = class_names[np.argmax(pred)]\n",
    "\n",
    "print('Predicted shoe:', output_class)"
   ]
  },
  {
   "cell_type": "code",
   "execution_count": 108,
   "id": "8b558c26-d3c2-4d40-993c-6e61c1d7df80",
   "metadata": {},
   "outputs": [
    {
     "name": "stdout",
     "output_type": "stream",
     "text": [
      "INFO:tensorflow:Assets written to: ResNet50_V3\\assets\n"
     ]
    },
    {
     "name": "stderr",
     "output_type": "stream",
     "text": [
      "INFO:tensorflow:Assets written to: ResNet50_V3\\assets\n"
     ]
    }
   ],
   "source": [
    "resnet_model.save('ResNet50_V3')"
   ]
  }
 ],
 "metadata": {
  "kernelspec": {
   "display_name": "Python 3 (ipykernel)",
   "language": "python",
   "name": "python3"
  },
  "language_info": {
   "codemirror_mode": {
    "name": "ipython",
    "version": 3
   },
   "file_extension": ".py",
   "mimetype": "text/x-python",
   "name": "python",
   "nbconvert_exporter": "python",
   "pygments_lexer": "ipython3",
   "version": "3.11.5"
  }
 },
 "nbformat": 4,
 "nbformat_minor": 5
}
